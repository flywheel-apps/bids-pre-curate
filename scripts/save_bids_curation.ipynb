{
 "cells": [
  {
   "cell_type": "code",
   "execution_count": 56,
   "metadata": {},
   "outputs": [
    {
     "name": "stderr",
     "output_type": "stream",
     "text": [
      "WARNING:Flywheel:Root mode is deprecated\n",
      "/usr/local/lib/python3.9/site-packages/flywheel/flywheel.py:6274: UserWarning: Client version 15.3.1 does not match server version 14.6.2. Please update your client version!\n",
      "  warnings.warn('Client version {} does not match server version {}. Please update your client version!'.format(SDK_VERSION, release_version))\n",
      "WARNING:Flywheel:Use \"pip install flywheel-sdk~=14.6.3\" to install a compatible version for this server\n"
     ]
    },
    {
     "data": {
      "text/plain": [
       "'https://rollout.ce.flywheel.io/api'"
      ]
     },
     "execution_count": 56,
     "metadata": {},
     "output_type": "execute_result"
    }
   ],
   "source": [
    "import csv\n",
    "import pandas as pd\n",
    "\n",
    "import flywheel\n",
    "fw = flywheel.Client('', root=True)  # This works if you are logged into a Flywheel instance on a Terminal.\n",
    "fw.get_config().site.api_url  # Prints the instance you are logged into to make sure it is the right one."
   ]
  },
  {
   "cell_type": "code",
   "execution_count": 100,
   "metadata": {},
   "outputs": [],
   "source": [
    "def save_curation_csvs(group_label, project_label):\n",
    "    \"\"\"Save BIDS mapping from acquisition names to BIDS paths and fieldmap IntendedFors as sorted csv files.\"\"\"\n",
    "\n",
    "    project = fw.projects.find_one(f'group={group_label},label={project_label}')\n",
    "\n",
    "    intended_for_acquisition = dict()\n",
    "    intended_for_dirs = dict()\n",
    "    intended_fors = dict()\n",
    "    \n",
    "    nifti_df = pd.DataFrame(columns=(\"Acquisition label (SeriesDescription)\", \"File name\", \"Curated BIDS path\"))\n",
    "\n",
    "    ii = 0  # Current acquisition index\n",
    "    for acquisition in fw.acquisitions.iter_find(f\"project={project.id}\"):\n",
    "\n",
    "        print(ii, \"  \", acquisition.label)\n",
    "        for file in acquisition.reload().files:\n",
    "            if file.info['BIDS'] != \"NA\":\n",
    "                if file.type == 'nifti':\n",
    "                    if not file.info['BIDS']['ignore']:\n",
    "                        print(f\"{acquisition.label}, {file.name}, {file.info['BIDS']['Folder']}/{file.info['BIDS']['Filename']}\")\n",
    "                        nifti_df.loc[ii] = [acquisition.label, \n",
    "                                            file.name, \n",
    "                                            f\"{file.info['BIDS']['Folder']}/{file.info['BIDS']['Filename']}\"]\n",
    "                    else:\n",
    "                        print(f\"{acquisition.label}, {file.name}, Ignored\")\n",
    "                        nifti_df.loc[ii] = [acquisition.label, file.name, \"Ignored\"]\n",
    "                if 'IntendedFor' in file.info['BIDS']:\n",
    "                    intended_for_acquisition[file.name] = acquisition.label\n",
    "                    intended_for_dirs[file.name] = file.info['BIDS']['IntendedFor']\n",
    "                    intended_fors[file.name] = file.info['IntendedFor']\n",
    "            ii += 1\n",
    "    \n",
    "    nifti_df.sort_values(by=[\"Curated BIDS path\"], inplace=True)\n",
    "    \n",
    "    nifti_df.to_csv(f'{group_label}_{project_label}_niftis.csv', index=False)  \n",
    "           \n",
    "    print()\n",
    "\n",
    "    with open(f'{group_label}_{project_label}_intendedfors.csv', mode='w') as intendedfors_file:\n",
    "        intendedfors_writer = csv.writer(intendedfors_file, delimiter=',', quotechar='\"', quoting=csv.QUOTE_MINIMAL)\n",
    "        intendedfors_writer.writerow([\"acquisition label\", \"file name and folder\", \"IntendedFor List of BIDS paths\"])\n",
    "\n",
    "        for k,v in intended_for_dirs.items():\n",
    "            print(f\"{intended_for_acquisition[k]}, {k}\")\n",
    "            intendedfors_writer.writerow([intended_for_acquisition[k], k])\n",
    "            for i in v:\n",
    "                print(f\",{i['Folder']}\")\n",
    "                intendedfors_writer.writerow([\"\",i['Folder']])\n",
    "                intended_fors[k].sort()\n",
    "                for j in intended_fors[k]:\n",
    "                    print(f\",,{j}\")\n",
    "                    intendedfors_writer.writerow([\"\",\"\",j])\n",
    "\n",
    "    return nifti_df"
   ]
  },
  {
   "cell_type": "code",
   "execution_count": 80,
   "metadata": {},
   "outputs": [
    {
     "name": "stdout",
     "output_type": "stream",
     "text": [
      "0    task-REST_dir-AP_run-1_sbref\n",
      "task-REST_dir-AP_run-1_sbref, sub-TOME3024_ses-Session1_task-REST_dir-AP_run-1_sbref.nii.gz, func/sub-TOME3024_ses-Session1_task-REST_dir-AP_run-1_sbref.nii.gz\n",
      "1    task-REST_dir-AP_run-2\n",
      "task-REST_dir-AP_run-2, sub-TOME3024_ses-Session1_task-REST_dir-AP_run-2_bold.nii.gz, func/sub-TOME3024_ses-Session1_task-REST_dir-AP_run-2_bold.nii.gz\n",
      "2    acq-MPRHA_T1w\n",
      "acq-MPRHA_T1w, sub-TOME3024_ses-Session2_acq-MPRHA_T1w.nii.gz, anat/sub-TOME3024_ses-Session2_acq-MPRHA_T1w.nii.gz\n",
      "\n"
     ]
    }
   ],
   "source": [
    "df = save_curation_csvs('bids-apps','BIDS_multi_session')"
   ]
  },
  {
   "cell_type": "code",
   "execution_count": 77,
   "metadata": {},
   "outputs": [
    {
     "data": {
      "text/html": [
       "<div>\n",
       "<style scoped>\n",
       "    .dataframe tbody tr th:only-of-type {\n",
       "        vertical-align: middle;\n",
       "    }\n",
       "\n",
       "    .dataframe tbody tr th {\n",
       "        vertical-align: top;\n",
       "    }\n",
       "\n",
       "    .dataframe thead th {\n",
       "        text-align: right;\n",
       "    }\n",
       "</style>\n",
       "<table border=\"1\" class=\"dataframe\">\n",
       "  <thead>\n",
       "    <tr style=\"text-align: right;\">\n",
       "      <th></th>\n",
       "      <th>Acquisition label (SeriesDescription)</th>\n",
       "      <th>File name</th>\n",
       "      <th>Curated BIDS path</th>\n",
       "    </tr>\n",
       "  </thead>\n",
       "  <tbody>\n",
       "    <tr>\n",
       "      <th>2</th>\n",
       "      <td>acq-MPRHA_T1w</td>\n",
       "      <td>sub-TOME3024_ses-Session2_acq-MPRHA_T1w.nii.gz</td>\n",
       "      <td>anat/sub-TOME3024_ses-Session2_acq-MPRHA_T1w.n...</td>\n",
       "    </tr>\n",
       "    <tr>\n",
       "      <th>0</th>\n",
       "      <td>task-REST_dir-AP_run-1_sbref</td>\n",
       "      <td>sub-TOME3024_ses-Session1_task-REST_dir-AP_run...</td>\n",
       "      <td>func/sub-TOME3024_ses-Session1_task-REST_dir-A...</td>\n",
       "    </tr>\n",
       "    <tr>\n",
       "      <th>1</th>\n",
       "      <td>task-REST_dir-AP_run-2</td>\n",
       "      <td>sub-TOME3024_ses-Session1_task-REST_dir-AP_run...</td>\n",
       "      <td>func/sub-TOME3024_ses-Session1_task-REST_dir-A...</td>\n",
       "    </tr>\n",
       "  </tbody>\n",
       "</table>\n",
       "</div>"
      ],
      "text/plain": [
       "  Acquisition label (SeriesDescription)  \\\n",
       "2                         acq-MPRHA_T1w   \n",
       "0          task-REST_dir-AP_run-1_sbref   \n",
       "1                task-REST_dir-AP_run-2   \n",
       "\n",
       "                                           File name  \\\n",
       "2     sub-TOME3024_ses-Session2_acq-MPRHA_T1w.nii.gz   \n",
       "0  sub-TOME3024_ses-Session1_task-REST_dir-AP_run...   \n",
       "1  sub-TOME3024_ses-Session1_task-REST_dir-AP_run...   \n",
       "\n",
       "                                   Curated BIDS path  \n",
       "2  anat/sub-TOME3024_ses-Session2_acq-MPRHA_T1w.n...  \n",
       "0  func/sub-TOME3024_ses-Session1_task-REST_dir-A...  \n",
       "1  func/sub-TOME3024_ses-Session1_task-REST_dir-A...  "
      ]
     },
     "execution_count": 77,
     "metadata": {},
     "output_type": "execute_result"
    }
   ],
   "source": [
    "df"
   ]
  }
 ],
 "metadata": {
  "kernelspec": {
   "display_name": "Python 3",
   "language": "python",
   "name": "python3"
  },
  "language_info": {
   "codemirror_mode": {
    "name": "ipython",
    "version": 3
   },
   "file_extension": ".py",
   "mimetype": "text/x-python",
   "name": "python",
   "nbconvert_exporter": "python",
   "pygments_lexer": "ipython3",
   "version": "3.9.0"
  }
 },
 "nbformat": 4,
 "nbformat_minor": 4
}
